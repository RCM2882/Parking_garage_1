{
 "cells": [
  {
   "cell_type": "markdown",
   "metadata": {},
   "source": [
    "# Parking Garage Project\n",
    "\n",
    "Your assignment for today is to create a parking garage class to get more familiar with Object Oriented Programming(OOP). \n",
    "\n",
    "Your parking gargage class should have the following methods:\n",
    "- takeTicket\n",
    "   - This should decrease the amount of tickets available by 1\n",
    "   - This should decrease the amount of parkingSpaces available by 1\n",
    "- payForParking\n",
    "   - Display an input that waits for an amount from the user and store it in a variable\n",
    "   - If the payment variable is not empty then ->  display a message to the user that their ticket has been paid and they have 15mins to leave\n",
    "   - This should update the \"currentTicket\" dictionary key \"paid\" to True\n",
    "-leaveGarage\n",
    "   - If the ticket has been paid, display a message of \"Thank You, have a nice day\"\n",
    "   - If the ticket has not been paid, display an input prompt for payment\n",
    "      - Once paid, display message \"Thank you, have a nice day!\"\n",
    "   - Update parkingSpaces list to increase by 1\n",
    "   - Update tickets list to increase by 1\n",
    "\n",
    "You will need a few attributes as well:\n",
    "- tickets -> list\n",
    "- parkingSpaces -> list\n",
    "- currentTicket -> dictionary"
   ]
  },
  {
   "cell_type": "code",
   "execution_count": 287,
   "metadata": {},
   "outputs": [
    {
     "name": "stdout",
     "output_type": "stream",
     "text": [
      "Here is your ticket\n",
      "Please enter the 10 dollar amount that you owe3\n",
      "Your ticket has NOT been paid. Please pay the 10 dollar fee\n",
      "Please enter the 10 dollar amount that you owe10\n",
      "Your ticket has been paid.\n",
      "Thank you, have a nice day. You have 15 minutes to leave the garage\n"
     ]
    },
    {
     "data": {
      "text/plain": [
       "([], 50, {'ticket': 'paid'})"
      ]
     },
     "execution_count": 287,
     "metadata": {},
     "output_type": "execute_result"
    }
   ],
   "source": [
    "class Parking_garage():\n",
    "\n",
    "    def __init__(self, tickets = [], parkingSpaces = [], currentTicket = {}):\n",
    "        self.tickets = tickets\n",
    "        self.parkingSpaces = parkingSpaces\n",
    "        self.currentTicket = currentTicket\n",
    "        \n",
    "\n",
    "    def takeTicket(self):\n",
    "        self.tickets = []\n",
    "        self.parkingSpaces = [1] * 50\n",
    "        if len(self.tickets) < len(self.parkingSpaces):\n",
    "            self.tickets.append(1)     \n",
    "            self.parkingSpaces.remove(1)\n",
    "            print('Here is your ticket')\n",
    "        else: \n",
    "            len(self.tickets) > len(self.parkingSpaces)\n",
    "            print('There are no tickets left')   \n",
    "            \n",
    "        return self.tickets, len(self.parkingSpaces)\n",
    "    \n",
    "    def payForParking(self):\n",
    "        response = int(input('Please enter the 10 dollar amount that you owe'))\n",
    "        fee = 10\n",
    "        self.currentTicket = {'ticket': 'unpaid'}\n",
    "        if response < 10:\n",
    "            self.currentTicket == {'ticket':'unpaid'}\n",
    "            print('Your ticket has NOT been paid. Please pay the 10 dollar fee')\n",
    "        elif response == 10:\n",
    "            self.currentTicket.update({'ticket':'paid'})\n",
    "            print('Your ticket has been paid.')\n",
    "            \n",
    "        return self.leaveGarage()\n",
    "                 \n",
    "    \n",
    "    def leaveGarage(self):\n",
    "        \n",
    "        if self.currentTicket == {'ticket':'paid'}:\n",
    "            print('Thank you, have a nice day. You have 15 minutes to leave the garage')\n",
    "            self.parkingSpaces.append(1)\n",
    "            self.tickets.remove(1)\n",
    "        else:\n",
    "            self.payForParking()\n",
    "    \n",
    "                \n",
    "        return self.tickets, len(self.parkingSpaces), self.currentTicket        \n",
    "        \n",
    "        \n",
    "        \n",
    "my_car = Parking_garage()\n",
    "my_car.takeTicket()\n",
    "my_car.payForParking()"
   ]
  },
  {
   "cell_type": "code",
   "execution_count": 282,
   "metadata": {},
   "outputs": [
    {
     "name": "stdout",
     "output_type": "stream",
     "text": [
      "Here is your ticket\n"
     ]
    },
    {
     "data": {
      "text/plain": [
       "([1], 49)"
      ]
     },
     "execution_count": 282,
     "metadata": {},
     "output_type": "execute_result"
    }
   ],
   "source": [
    "your_car = Parking_garage()\n",
    "your_car.takeTicket()"
   ]
  }
 ],
 "metadata": {
  "kernelspec": {
   "display_name": "Python 3 (ipykernel)",
   "language": "python",
   "name": "python3"
  },
  "language_info": {
   "codemirror_mode": {
    "name": "ipython",
    "version": 3
   },
   "file_extension": ".py",
   "mimetype": "text/x-python",
   "name": "python",
   "nbconvert_exporter": "python",
   "pygments_lexer": "ipython3",
   "version": "3.11.7"
  }
 },
 "nbformat": 4,
 "nbformat_minor": 4
}
